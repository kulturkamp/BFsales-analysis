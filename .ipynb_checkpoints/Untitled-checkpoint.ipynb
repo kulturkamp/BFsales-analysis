{
 "cells": [
  {
   "cell_type": "markdown",
   "id": "408f7fdd",
   "metadata": {},
   "source": [
    "# [Back Friday Sales](https://www.kaggle.com/datasets/pranavuikey/black-friday-sales-eda) data notebook\n",
    "### Dataset history\n",
    "A retail company “ABC Private Limited” wants to understand the customer purchase behaviour (specifically, purchase amount) against various products of different categories. They have shared purchase summary of various customers for selected high volume products from last month."
   ]
  },
  {
   "cell_type": "markdown",
   "id": "d688c2ab",
   "metadata": {},
   "source": [
    "## Importing and fixing data"
   ]
  },
  {
   "cell_type": "code",
   "execution_count": 1,
   "id": "467e4028",
   "metadata": {},
   "outputs": [],
   "source": [
    "import pandas as pd\n",
    "import numpy as np"
   ]
  },
  {
   "cell_type": "code",
   "execution_count": 2,
   "id": "343a879f",
   "metadata": {},
   "outputs": [],
   "source": [
    "df = pd.read_csv('train.csv')"
   ]
  },
  {
   "cell_type": "code",
   "execution_count": 3,
   "id": "6c4bba80",
   "metadata": {},
   "outputs": [
    {
     "data": {
      "text/html": [
       "<div>\n",
       "<style scoped>\n",
       "    .dataframe tbody tr th:only-of-type {\n",
       "        vertical-align: middle;\n",
       "    }\n",
       "\n",
       "    .dataframe tbody tr th {\n",
       "        vertical-align: top;\n",
       "    }\n",
       "\n",
       "    .dataframe thead th {\n",
       "        text-align: right;\n",
       "    }\n",
       "</style>\n",
       "<table border=\"1\" class=\"dataframe\">\n",
       "  <thead>\n",
       "    <tr style=\"text-align: right;\">\n",
       "      <th></th>\n",
       "      <th>User_ID</th>\n",
       "      <th>Product_ID</th>\n",
       "      <th>Gender</th>\n",
       "      <th>Age</th>\n",
       "      <th>Occupation</th>\n",
       "      <th>City_Category</th>\n",
       "      <th>Stay_In_Current_City_Years</th>\n",
       "      <th>Marital_Status</th>\n",
       "      <th>Product_Category_1</th>\n",
       "      <th>Product_Category_2</th>\n",
       "      <th>Product_Category_3</th>\n",
       "      <th>Purchase</th>\n",
       "    </tr>\n",
       "  </thead>\n",
       "  <tbody>\n",
       "    <tr>\n",
       "      <th>0</th>\n",
       "      <td>1000001</td>\n",
       "      <td>P00069042</td>\n",
       "      <td>F</td>\n",
       "      <td>0-17</td>\n",
       "      <td>10</td>\n",
       "      <td>A</td>\n",
       "      <td>2</td>\n",
       "      <td>0</td>\n",
       "      <td>3</td>\n",
       "      <td>NaN</td>\n",
       "      <td>NaN</td>\n",
       "      <td>8370</td>\n",
       "    </tr>\n",
       "    <tr>\n",
       "      <th>1</th>\n",
       "      <td>1000001</td>\n",
       "      <td>P00248942</td>\n",
       "      <td>F</td>\n",
       "      <td>0-17</td>\n",
       "      <td>10</td>\n",
       "      <td>A</td>\n",
       "      <td>2</td>\n",
       "      <td>0</td>\n",
       "      <td>1</td>\n",
       "      <td>6.0</td>\n",
       "      <td>14.0</td>\n",
       "      <td>15200</td>\n",
       "    </tr>\n",
       "    <tr>\n",
       "      <th>2</th>\n",
       "      <td>1000001</td>\n",
       "      <td>P00087842</td>\n",
       "      <td>F</td>\n",
       "      <td>0-17</td>\n",
       "      <td>10</td>\n",
       "      <td>A</td>\n",
       "      <td>2</td>\n",
       "      <td>0</td>\n",
       "      <td>12</td>\n",
       "      <td>NaN</td>\n",
       "      <td>NaN</td>\n",
       "      <td>1422</td>\n",
       "    </tr>\n",
       "    <tr>\n",
       "      <th>3</th>\n",
       "      <td>1000001</td>\n",
       "      <td>P00085442</td>\n",
       "      <td>F</td>\n",
       "      <td>0-17</td>\n",
       "      <td>10</td>\n",
       "      <td>A</td>\n",
       "      <td>2</td>\n",
       "      <td>0</td>\n",
       "      <td>12</td>\n",
       "      <td>14.0</td>\n",
       "      <td>NaN</td>\n",
       "      <td>1057</td>\n",
       "    </tr>\n",
       "    <tr>\n",
       "      <th>4</th>\n",
       "      <td>1000002</td>\n",
       "      <td>P00285442</td>\n",
       "      <td>M</td>\n",
       "      <td>55+</td>\n",
       "      <td>16</td>\n",
       "      <td>C</td>\n",
       "      <td>4+</td>\n",
       "      <td>0</td>\n",
       "      <td>8</td>\n",
       "      <td>NaN</td>\n",
       "      <td>NaN</td>\n",
       "      <td>7969</td>\n",
       "    </tr>\n",
       "  </tbody>\n",
       "</table>\n",
       "</div>"
      ],
      "text/plain": [
       "   User_ID Product_ID Gender   Age  Occupation City_Category  \\\n",
       "0  1000001  P00069042      F  0-17          10             A   \n",
       "1  1000001  P00248942      F  0-17          10             A   \n",
       "2  1000001  P00087842      F  0-17          10             A   \n",
       "3  1000001  P00085442      F  0-17          10             A   \n",
       "4  1000002  P00285442      M   55+          16             C   \n",
       "\n",
       "  Stay_In_Current_City_Years  Marital_Status  Product_Category_1  \\\n",
       "0                          2               0                   3   \n",
       "1                          2               0                   1   \n",
       "2                          2               0                  12   \n",
       "3                          2               0                  12   \n",
       "4                         4+               0                   8   \n",
       "\n",
       "   Product_Category_2  Product_Category_3  Purchase  \n",
       "0                 NaN                 NaN      8370  \n",
       "1                 6.0                14.0     15200  \n",
       "2                 NaN                 NaN      1422  \n",
       "3                14.0                 NaN      1057  \n",
       "4                 NaN                 NaN      7969  "
      ]
     },
     "execution_count": 3,
     "metadata": {},
     "output_type": "execute_result"
    }
   ],
   "source": [
    "df.head()"
   ]
  },
  {
   "cell_type": "code",
   "execution_count": 4,
   "id": "bcd741ae",
   "metadata": {
    "scrolled": true
   },
   "outputs": [
    {
     "name": "stdout",
     "output_type": "stream",
     "text": [
      "<class 'pandas.core.frame.DataFrame'>\n",
      "RangeIndex: 550068 entries, 0 to 550067\n",
      "Data columns (total 12 columns):\n",
      " #   Column                      Non-Null Count   Dtype  \n",
      "---  ------                      --------------   -----  \n",
      " 0   User_ID                     550068 non-null  int64  \n",
      " 1   Product_ID                  550068 non-null  object \n",
      " 2   Gender                      550068 non-null  object \n",
      " 3   Age                         550068 non-null  object \n",
      " 4   Occupation                  550068 non-null  int64  \n",
      " 5   City_Category               550068 non-null  object \n",
      " 6   Stay_In_Current_City_Years  550068 non-null  object \n",
      " 7   Marital_Status              550068 non-null  int64  \n",
      " 8   Product_Category_1          550068 non-null  int64  \n",
      " 9   Product_Category_2          376430 non-null  float64\n",
      " 10  Product_Category_3          166821 non-null  float64\n",
      " 11  Purchase                    550068 non-null  int64  \n",
      "dtypes: float64(2), int64(5), object(5)\n",
      "memory usage: 50.4+ MB\n"
     ]
    }
   ],
   "source": [
    "df.info()"
   ]
  },
  {
   "cell_type": "code",
   "execution_count": 5,
   "id": "325a880a",
   "metadata": {},
   "outputs": [
    {
     "data": {
      "text/plain": [
       "User_ID                            0\n",
       "Product_ID                         0\n",
       "Gender                             0\n",
       "Age                                0\n",
       "Occupation                         0\n",
       "City_Category                      0\n",
       "Stay_In_Current_City_Years         0\n",
       "Marital_Status                     0\n",
       "Product_Category_1                 0\n",
       "Product_Category_2            173638\n",
       "Product_Category_3            383247\n",
       "Purchase                           0\n",
       "dtype: int64"
      ]
     },
     "execution_count": 5,
     "metadata": {},
     "output_type": "execute_result"
    }
   ],
   "source": [
    "df.isnull().sum()"
   ]
  },
  {
   "cell_type": "markdown",
   "id": "c29d4dea",
   "metadata": {},
   "source": [
    "> Product_Category_2 and Product_Category_3 have missing values, meaning product has no secondary or tertiary category respectfully\n",
    "\n",
    "> Missing values will be handled in later sections of notebook"
   ]
  },
  {
   "cell_type": "code",
   "execution_count": null,
   "id": "313afc04",
   "metadata": {},
   "outputs": [],
   "source": []
  },
  {
   "cell_type": "code",
   "execution_count": 6,
   "id": "6515fed3",
   "metadata": {},
   "outputs": [
    {
     "data": {
      "text/plain": [
       "Index(['User_ID', 'Product_ID', 'Gender', 'Age', 'Occupation', 'City_Category',\n",
       "       'Stay_In_Current_City_Years', 'Marital_Status', 'Product_Category_1',\n",
       "       'Product_Category_2', 'Product_Category_3', 'Purchase'],\n",
       "      dtype='object')"
      ]
     },
     "execution_count": 6,
     "metadata": {},
     "output_type": "execute_result"
    }
   ],
   "source": [
    "df.columns"
   ]
  },
  {
   "cell_type": "code",
   "execution_count": 7,
   "id": "9dffed81",
   "metadata": {},
   "outputs": [
    {
     "data": {
      "text/plain": [
       "['Gender',\n",
       " 'Age',\n",
       " 'Occupation',\n",
       " 'City_Category',\n",
       " 'Stay_In_Current_City_Years',\n",
       " 'Marital_Status',\n",
       " 'Product_Category_1',\n",
       " 'Product_Category_2',\n",
       " 'Product_Category_3']"
      ]
     },
     "execution_count": 7,
     "metadata": {},
     "output_type": "execute_result"
    }
   ],
   "source": [
    "categories = [col for col in df.columns if col not in ['User_ID', 'Product_ID', 'Purchase']]\n",
    "categories"
   ]
  },
  {
   "cell_type": "markdown",
   "id": "853a9673",
   "metadata": {},
   "source": [
    "***Fixing datatypes for futher analysis***"
   ]
  },
  {
   "cell_type": "code",
   "execution_count": 8,
   "id": "c3b6eaff",
   "metadata": {},
   "outputs": [],
   "source": [
    "df.loc[:, categories] = df.loc[:, categories].astype('category')"
   ]
  },
  {
   "cell_type": "code",
   "execution_count": 9,
   "id": "92456bbe",
   "metadata": {},
   "outputs": [
    {
     "data": {
      "text/plain": [
       "User_ID                          int64\n",
       "Product_ID                      object\n",
       "Gender                        category\n",
       "Age                           category\n",
       "Occupation                    category\n",
       "City_Category                 category\n",
       "Stay_In_Current_City_Years    category\n",
       "Marital_Status                category\n",
       "Product_Category_1            category\n",
       "Product_Category_2            category\n",
       "Product_Category_3            category\n",
       "Purchase                         int64\n",
       "dtype: object"
      ]
     },
     "execution_count": 9,
     "metadata": {},
     "output_type": "execute_result"
    }
   ],
   "source": [
    "df.dtypes"
   ]
  },
  {
   "cell_type": "markdown",
   "id": "c88b8d96",
   "metadata": {},
   "source": [
    "## EDA and basic visualization"
   ]
  },
  {
   "cell_type": "code",
   "execution_count": 10,
   "id": "e4384907",
   "metadata": {},
   "outputs": [],
   "source": [
    "import seaborn as sns\n",
    "import matplotlib.pyplot as plt"
   ]
  },
  {
   "cell_type": "code",
   "execution_count": 11,
   "id": "14c12c8c",
   "metadata": {},
   "outputs": [],
   "source": [
    "%matplotlib inline\n",
    "plt.style.use('seaborn-dark')"
   ]
  },
  {
   "cell_type": "markdown",
   "id": "816ee633",
   "metadata": {},
   "source": [
    "***KDE Probability Density Plot***"
   ]
  },
  {
   "cell_type": "code",
   "execution_count": 12,
   "id": "1b8b62ec",
   "metadata": {
    "scrolled": false
   },
   "outputs": [
    {
     "data": {
      "text/plain": [
       "<seaborn.axisgrid.FacetGrid at 0x29fd08053c0>"
      ]
     },
     "execution_count": 12,
     "metadata": {},
     "output_type": "execute_result"
    },
    {
     "data": {
      "image/png": "[encoded data removed]",
      "text/plain": [
       "<Figure size 864x576 with 1 Axes>"
      ]
     },
     "metadata": {},
     "output_type": "display_data"
    }
   ],
   "source": [
    "sns.displot(df['Purchase'], bins=25, kde=True, height=8, aspect=1.5)"
   ]
  },
  {
   "cell_type": "markdown",
   "id": "712c9b5a",
   "metadata": {},
   "source": [
    "> Purchase is the most dense between values 5000 and 10000"
   ]
  },
  {
   "cell_type": "code",
   "execution_count": 13,
   "id": "042664ae",
   "metadata": {},
   "outputs": [
    {
     "data": {
      "text/plain": [
       "['Gender',\n",
       " 'Age',\n",
       " 'Occupation',\n",
       " 'City_Category',\n",
       " 'Stay_In_Current_City_Years',\n",
       " 'Marital_Status']"
      ]
     },
     "execution_count": 13,
     "metadata": {},
     "output_type": "execute_result"
    }
   ],
   "source": [
    "customer_features = [col for col in df.columns[1:-1] if not col.startswith('Product')]\n",
    "customer_features"
   ]
  },
  {
   "cell_type": "code",
   "execution_count": 14,
   "id": "7d7de3c7",
   "metadata": {},
   "outputs": [],
   "source": [
    "def create_barplot(data, x, y, estimator, orientation='v', ax=None):\n",
    "    sns.barplot(data.sort_values(by=x), x=x, y=y, \n",
    "                estimator=estimator, orient=orientation, ax=ax).set_title(f'{estimator.__name__} of {y} vs {x}');"
   ]
  },
  {
   "cell_type": "markdown",
   "id": "00fbc2bd",
   "metadata": {},
   "source": [
    "***Count of Purhcase for customer features***"
   ]
  },
  {
   "cell_type": "code",
   "execution_count": 15,
   "id": "32fd2378",
   "metadata": {},
   "outputs": [
    {
     "data": {
      "image/png": "[encoded data removed]",
      "text/plain": [
       "<Figure size 1440x1080 with 6 Axes>"
      ]
     },
     "metadata": {},
     "output_type": "display_data"
    }
   ],
   "source": [
    "fig, axes = plt.subplots(3, 2, figsize=(20, 15));\n",
    "plt.subplots_adjust(hspace=0.2);\n",
    "for col, ax in zip(customer_features, axes.ravel()):\n",
    "    create_barplot(data=df, x=col, y='Purchase', estimator=np.count_nonzero, ax=ax)"
   ]
  },
  {
   "cell_type": "markdown",
   "id": "40485e59",
   "metadata": {},
   "source": [
    "> Groups across all customer features have different number of instances"
   ]
  },
  {
   "cell_type": "markdown",
   "id": "2225ae99",
   "metadata": {},
   "source": [
    "***Mean value of Purchase for customer features***"
   ]
  },
  {
   "cell_type": "code",
   "execution_count": 16,
   "id": "e520e995",
   "metadata": {},
   "outputs": [
    {
     "data": {
      "image/png": "[encoded data removed]",
      "text/plain": [
       "<Figure size 1440x1080 with 6 Axes>"
      ]
     },
     "metadata": {},
     "output_type": "display_data"
    }
   ],
   "source": [
    "fig, axes = plt.subplots(3, 2, figsize=(20, 15));\n",
    "plt.subplots_adjust(hspace=0.2);\n",
    "for col, ax in zip(customer_features, axes.ravel()):\n",
    "    create_barplot(data=df, x=col, y='Purchase', estimator=np.mean, ax=ax)"
   ]
  },
  {
   "cell_type": "markdown",
   "id": "7257a8da",
   "metadata": {},
   "source": [
    "> Mean of Purchase across almost all customer features are somehow different\n",
    "\n",
    "> Mean of Purchase by Marital_Status and Stay_In_Current_City_Years looks even or almost even"
   ]
  },
  {
   "cell_type": "markdown",
   "id": "428911f4",
   "metadata": {},
   "source": [
    "***Creating pivot tables***"
   ]
  },
  {
   "cell_type": "code",
   "execution_count": 17,
   "id": "e29a181f",
   "metadata": {},
   "outputs": [],
   "source": [
    "agg_dict ={'Purchase': ['sum', 'mean', 'median', 'std', 'count']}"
   ]
  },
  {
   "cell_type": "code",
   "execution_count": 18,
   "id": "9d509832",
   "metadata": {},
   "outputs": [],
   "source": [
    "def create_pivot(data, column, agg, print_=True):\n",
    "    pivot = data.groupby(column).aggregate(agg).reset_index()\n",
    "    if print_:\n",
    "        print(pivot)\n",
    "    return pivot"
   ]
  },
  {
   "cell_type": "code",
   "execution_count": 19,
   "id": "4e4c600c",
   "metadata": {},
   "outputs": [
    {
     "data": {
      "text/plain": [
       "['Gender',\n",
       " 'Age',\n",
       " 'Occupation',\n",
       " 'City_Category',\n",
       " 'Stay_In_Current_City_Years',\n",
       " 'Marital_Status']"
      ]
     },
     "execution_count": 19,
     "metadata": {},
     "output_type": "execute_result"
    }
   ],
   "source": [
    "customer_features"
   ]
  },
  {
   "cell_type": "code",
   "execution_count": 20,
   "id": "112dc7a9",
   "metadata": {},
   "outputs": [],
   "source": [
    "pivot_list = []"
   ]
  },
  {
   "cell_type": "code",
   "execution_count": 21,
   "id": "a253dd4f",
   "metadata": {
    "scrolled": true
   },
   "outputs": [
    {
     "name": "stdout",
     "output_type": "stream",
     "text": [
      "  Gender    Purchase                                          \n",
      "                 sum         mean  median          std   count\n",
      "0      F  1186232642  8734.565765  7914.0  4767.233289  135809\n",
      "1      M  3909580100  9437.526040  8098.0  5092.186210  414259\n",
      "     Age    Purchase                                          \n",
      "                 sum         mean  median          std   count\n",
      "0   0-17   134913183  8933.464640  7986.0  5111.114046   15102\n",
      "1  18-25   913848675  9169.663606  8027.0  5034.321997   99660\n",
      "2  26-35  2031770578  9252.690633  8030.0  5010.527303  219587\n",
      "3  36-45  1026569884  9331.350695  8061.0  5022.923879  110013\n",
      "4  46-50   420843403  9208.625697  8036.0  4967.216367   45701\n",
      "5  51-55   367099644  9534.808031  8130.0  5087.368080   38501\n",
      "6    55+   200767375  9336.280459  8105.5  5011.493996   21504\n",
      "   Occupation   Purchase                                         \n",
      "                     sum         mean  median          std  count\n",
      "0           0  635406958  9124.428588  8001.0  4971.757402  69638\n",
      "1           1  424614144  8953.193270  7966.0  4838.482159  47426\n",
      "2           2  238028583  8952.481683  7952.0  4939.418663  26588\n",
      "3           3  162002168  9178.593088  8008.0  5000.942719  17650\n",
      "4           4  666244484  9213.980251  8043.0  5043.674855  72308\n",
      "5           5  113649759  9333.149298  8080.0  5025.616603  12177\n",
      "6           6  188416784  9256.535691  8050.0  4989.216005  20355\n",
      "7           7  557371587  9425.728223  8069.0  5086.097089  59133\n",
      "8           8   14737388  9532.592497  8419.5  4916.641374   1546\n",
      "9           9   54340046  8637.743761  7886.0  4653.290986   6291\n",
      "10         10  115844465  8959.355375  8012.5  5124.339999  12930\n",
      "11         11  106751618  9213.845848  8041.5  5103.802992  11586\n",
      "12         12  305449446  9796.640239  8569.0  5140.437446  31179\n",
      "13         13   71919481  9306.351061  8090.5  4940.156591   7728\n",
      "14         14  259454692  9500.702772  8122.0  5069.600234  27309\n",
      "15         15  118960211  9778.891163  8513.0  5088.424301  12165\n",
      "16         16  238346955  9394.464349  8070.0  4995.918117  25371\n",
      "17         17  393281453  9821.478236  8635.0  5137.024383  40043\n",
      "18         18   60721461  9169.655844  7955.0  4987.697451   6622\n",
      "19         19   73700617  8710.627231  7840.0  5024.181000   8461\n",
      "20         20  296570442  8836.494905  7903.5  4919.662409  33562\n",
      "  City_Category    Purchase                                          \n",
      "                        sum         mean  median          std   count\n",
      "0             A  1316471661  8911.939216  7931.0  4892.115238  147720\n",
      "1             B  2115533605  9151.300563  8005.0  4955.496566  231173\n",
      "2             C  1663807476  9719.920993  8585.0  5189.465121  171175\n",
      "  Stay_In_Current_City_Years    Purchase                                    \\\n",
      "                                     sum         mean  median          std   \n",
      "0                          0   682979229  9180.075123  8025.0  4990.479940   \n",
      "1                          1  1792872533  9250.145923  8041.0  5027.476933   \n",
      "2                          2   949173931  9320.429810  8072.0  5044.588224   \n",
      "3                          3   884902659  9286.904119  8047.0  5020.343541   \n",
      "4                         4+   785884390  9275.598872  8052.0  5017.627594   \n",
      "\n",
      "           \n",
      "    count  \n",
      "0   74398  \n",
      "1  193821  \n",
      "2  101838  \n",
      "3   95285  \n",
      "4   84726  \n",
      "  Marital_Status    Purchase                                          \n",
      "                         sum         mean  median          std   count\n",
      "0              0  3008927447  9265.907619  8044.0  5027.347859  324731\n",
      "1              1  2086885295  9261.174574  8051.0  5016.897378  225337\n"
     ]
    }
   ],
   "source": [
    "for col in customer_features:\n",
    "    pivot_list.append(create_pivot(df, col, agg_dict))"
   ]
  },
  {
   "cell_type": "code",
   "execution_count": 22,
   "id": "00b4410a",
   "metadata": {},
   "outputs": [],
   "source": [
    "pivot_gender, pivot_age, pivot_occupation, pivot_city_cat, pivot_stay_years, pivot_marital = pivot_list"
   ]
  },
  {
   "cell_type": "markdown",
   "id": "b7a80134",
   "metadata": {},
   "source": [
    "***Example of accessing pivot table***"
   ]
  },
  {
   "cell_type": "code",
   "execution_count": 23,
   "id": "d42beafb",
   "metadata": {},
   "outputs": [
    {
     "data": {
      "text/html": [
       "<div>\n",
       "<style scoped>\n",
       "    .dataframe tbody tr th:only-of-type {\n",
       "        vertical-align: middle;\n",
       "    }\n",
       "\n",
       "    .dataframe tbody tr th {\n",
       "        vertical-align: top;\n",
       "    }\n",
       "\n",
       "    .dataframe thead tr th {\n",
       "        text-align: left;\n",
       "    }\n",
       "</style>\n",
       "<table border=\"1\" class=\"dataframe\">\n",
       "  <thead>\n",
       "    <tr>\n",
       "      <th></th>\n",
       "      <th>Age</th>\n",
       "      <th>Purchase</th>\n",
       "    </tr>\n",
       "    <tr>\n",
       "      <th></th>\n",
       "      <th></th>\n",
       "      <th>sum</th>\n",
       "    </tr>\n",
       "  </thead>\n",
       "  <tbody>\n",
       "    <tr>\n",
       "      <th>0</th>\n",
       "      <td>0-17</td>\n",
       "      <td>134913183</td>\n",
       "    </tr>\n",
       "    <tr>\n",
       "      <th>1</th>\n",
       "      <td>18-25</td>\n",
       "      <td>913848675</td>\n",
       "    </tr>\n",
       "    <tr>\n",
       "      <th>2</th>\n",
       "      <td>26-35</td>\n",
       "      <td>2031770578</td>\n",
       "    </tr>\n",
       "    <tr>\n",
       "      <th>3</th>\n",
       "      <td>36-45</td>\n",
       "      <td>1026569884</td>\n",
       "    </tr>\n",
       "    <tr>\n",
       "      <th>4</th>\n",
       "      <td>46-50</td>\n",
       "      <td>420843403</td>\n",
       "    </tr>\n",
       "    <tr>\n",
       "      <th>5</th>\n",
       "      <td>51-55</td>\n",
       "      <td>367099644</td>\n",
       "    </tr>\n",
       "    <tr>\n",
       "      <th>6</th>\n",
       "      <td>55+</td>\n",
       "      <td>200767375</td>\n",
       "    </tr>\n",
       "  </tbody>\n",
       "</table>\n",
       "</div>"
      ],
      "text/plain": [
       "     Age    Purchase\n",
       "                 sum\n",
       "0   0-17   134913183\n",
       "1  18-25   913848675\n",
       "2  26-35  2031770578\n",
       "3  36-45  1026569884\n",
       "4  46-50   420843403\n",
       "5  51-55   367099644\n",
       "6    55+   200767375"
      ]
     },
     "execution_count": 23,
     "metadata": {},
     "output_type": "execute_result"
    }
   ],
   "source": [
    "pivot_age.loc[:, [('Age', ''), ('Purchase', 'sum')]]"
   ]
  },
  {
   "cell_type": "markdown",
   "id": "c92068ee",
   "metadata": {},
   "source": [
    "***Mean and count of Purchase for product categories***"
   ]
  },
  {
   "cell_type": "code",
   "execution_count": 24,
   "id": "f1e0c2a5",
   "metadata": {},
   "outputs": [
    {
     "data": {
      "text/plain": [
       "['Product_Category_1', 'Product_Category_2', 'Product_Category_3']"
      ]
     },
     "execution_count": 24,
     "metadata": {},
     "output_type": "execute_result"
    }
   ],
   "source": [
    "product_features = [col for col in df.columns[2:] if col.startswith('Product')]\n",
    "product_features"
   ]
  },
  {
   "cell_type": "code",
   "execution_count": 25,
   "id": "6ff8f675",
   "metadata": {
    "scrolled": false
   },
   "outputs": [
    {
     "name": "stderr",
     "output_type": "stream",
     "text": [
      "C:\\python\\lib\\site-packages\\seaborn\\categorical.py:641: FutureWarning: Index.ravel returning ndarray is deprecated; in a future version this will return a view on self.\n",
      "  grouped_vals = vals.groupby(grouper)\n",
      "C:\\python\\lib\\site-packages\\seaborn\\categorical.py:641: FutureWarning: Index.ravel returning ndarray is deprecated; in a future version this will return a view on self.\n",
      "  grouped_vals = vals.groupby(grouper)\n",
      "C:\\python\\lib\\site-packages\\seaborn\\categorical.py:641: FutureWarning: Index.ravel returning ndarray is deprecated; in a future version this will return a view on self.\n",
      "  grouped_vals = vals.groupby(grouper)\n",
      "C:\\python\\lib\\site-packages\\seaborn\\categorical.py:641: FutureWarning: Index.ravel returning ndarray is deprecated; in a future version this will return a view on self.\n",
      "  grouped_vals = vals.groupby(grouper)\n"
     ]
    },
    {
     "data": {
      "image/png": "[encoded data removed]",
      "text/plain": [
       "<Figure size 1440x1080 with 6 Axes>"
      ]
     },
     "metadata": {},
     "output_type": "display_data"
    }
   ],
   "source": [
    "fig, axes = plt.subplots(3, 2, figsize=(20, 15));\n",
    "plt.subplots_adjust(hspace=0.2);\n",
    "for col, ax in zip(product_features, axes.ravel()[::2]):\n",
    "    create_barplot(data=df, x=col, y='Purchase', estimator=np.mean, ax=ax)\n",
    "for col, ax in zip(product_features, axes.ravel()[1::2]):\n",
    "    create_barplot(data=df, x=col, y='Purchase', estimator=np.count_nonzero, ax=ax)"
   ]
  },
  {
   "cell_type": "code",
   "execution_count": 26,
   "id": "84df9bdf",
   "metadata": {},
   "outputs": [],
   "source": [
    "pivot_list = []"
   ]
  },
  {
   "cell_type": "code",
   "execution_count": 27,
   "id": "f7ec695a",
   "metadata": {
    "scrolled": true
   },
   "outputs": [
    {
     "name": "stdout",
     "output_type": "stream",
     "text": [
      "   Product_Category_1    Purchase                                            \n",
      "                              sum          mean   median          std   count\n",
      "0                   1  1910013754  13606.218596  15245.0  4298.834894  140378\n",
      "1                   2   268516186  11251.935384  12728.5  3570.642713   23864\n",
      "2                   3   204084713  10096.705734  10742.0  2824.626957   20213\n",
      "3                   4    27380488   2329.659491   2175.0   812.540292   11753\n",
      "4                   5   941835229   6240.088178   6912.0  1909.091687  150933\n",
      "5                   6   324150302  15838.478550  16312.0  4011.233690   20466\n",
      "6                   7    60896731  16365.689600  16700.0  4174.554105    3721\n",
      "7                   8   854318799   7498.958078   7905.0  2013.015062  113925\n",
      "8                   9     6370324  15537.375610  14388.5  5330.847116     410\n",
      "9                  10   100837301  19675.570927  19197.0  4225.721898    5125\n",
      "10                 11   113791115   4685.268456   4611.0  1834.901184   24287\n",
      "11                 12     5331844   1350.859894   1401.0   362.510258    3947\n",
      "12                 13     4008601    722.400613    755.0   183.493126    5549\n",
      "13                 14    20014696  13141.625739  14654.0  4069.009293    1523\n",
      "14                 15    92969042  14780.451828  16660.0  5175.465852    6290\n",
      "15                 16   145120612  14766.037037  16292.5  4360.213198    9828\n",
      "16                 17     5878699  10170.759516  10435.5  2333.993073     578\n",
      "17                 18     9290201   2972.864320   3071.0   727.051652    3125\n",
      "18                 19       59378     37.041797     37.0    16.869148    1603\n",
      "19                 20      944727    370.481176    368.0   167.116975    2550\n",
      "   Product_Category_2   Purchase                                           \n",
      "                             sum          mean   median          std  count\n",
      "0                 2.0  670303864  13619.356401  15241.0  4275.570831  49217\n",
      "1                 3.0   32402777  11235.359570  12714.5  3581.718925   2884\n",
      "2                 4.0  262295485  10215.192001  10681.0  3172.992496  25677\n",
      "3                 5.0  236844899   9027.821574   9892.0  5807.891048  26235\n",
      "4                 6.0  189417477  11503.551379  11611.0  5205.810351  16466\n",
      "5                 7.0    4309812   6884.683706   7058.0  1765.432375    626\n",
      "6                 8.0  658392656  10273.259518   8675.0  5314.946435  64088\n",
      "7                 9.0   41428000   7277.006851   6955.0  3522.511363   5693\n",
      "8                10.0   47619084  15648.729543  16341.0  4475.656738   3043\n",
      "9                11.0  126366165   8940.580515   7180.0  4971.156614  14134\n",
      "10               12.0   38560412   6975.472504   7021.0  2816.487463   5528\n",
      "11               13.0  101975384   9683.352388   7981.0  5732.918227  10531\n",
      "12               14.0  391556939   7105.264916   7026.0  3253.277735  55108\n",
      "13               15.0  392067176  10357.077691   8857.0  5608.407152  37855\n",
      "14               16.0  445339722  10295.681933   9832.0  5778.651927  43255\n",
      "15               17.0  125495400   9421.576577   8314.5  4146.850410  13320\n",
      "16               18.0   25906260   9352.440433   7991.0  4862.383695   2770\n",
      "   Product_Category_3   Purchase                                           \n",
      "                             sum          mean   median          std  count\n",
      "0                 3.0    8545034  13939.696574  15288.0  4262.999709    613\n",
      "1                 4.0   18364475   9794.386667   9850.0  4085.114927   1875\n",
      "2                 5.0  201858094  12117.786889  11767.5  3931.937020  16658\n",
      "3                 6.0   64520181  13194.311043  15174.5  4149.266327   4890\n",
      "4                 8.0  163619031  13024.918882  15204.0  5346.600610  12562\n",
      "5                 9.0  120788622  10431.697210  11390.0  5692.208568  11579\n",
      "6                10.0   23311034  13505.813441  13051.0  3827.550957   1726\n",
      "7                11.0   21825045  12091.437673  11912.0  4677.665726   1805\n",
      "8                12.0   80583631   8715.512762   8370.0  4187.046841   9246\n",
      "9                13.0   71977563  13185.118703  12612.0  5019.142809   5459\n",
      "10               14.0  185249212  10052.594530   8653.0  4916.310000  18428\n",
      "11               15.0  345662769  12339.369900  12011.0  4482.385745  28013\n",
      "12               16.0  391040983  11981.890642  11916.0  5637.374042  32636\n",
      "13               17.0  196581588  11769.943001  11431.5  5090.429146  16702\n",
      "14               18.0   50891137  10993.980773  11589.0  5035.439074   4629\n"
     ]
    }
   ],
   "source": [
    "for col in product_features:\n",
    "    pivot_list.append(create_pivot(df, col, agg_dict))"
   ]
  },
  {
   "cell_type": "code",
   "execution_count": 28,
   "id": "a04cea92",
   "metadata": {},
   "outputs": [],
   "source": [
    "pivot_cat1, pivot_cat2, pivot_cat3 = pivot_list"
   ]
  },
  {
   "cell_type": "code",
   "execution_count": 29,
   "id": "69deb782",
   "metadata": {},
   "outputs": [
    {
     "data": {
      "text/html": [
       "<div>\n",
       "<style scoped>\n",
       "    .dataframe tbody tr th:only-of-type {\n",
       "        vertical-align: middle;\n",
       "    }\n",
       "\n",
       "    .dataframe tbody tr th {\n",
       "        vertical-align: top;\n",
       "    }\n",
       "\n",
       "    .dataframe thead tr th {\n",
       "        text-align: left;\n",
       "    }\n",
       "</style>\n",
       "<table border=\"1\" class=\"dataframe\">\n",
       "  <thead>\n",
       "    <tr>\n",
       "      <th></th>\n",
       "      <th>Product_Category_2</th>\n",
       "      <th>Purchase</th>\n",
       "    </tr>\n",
       "    <tr>\n",
       "      <th></th>\n",
       "      <th></th>\n",
       "      <th>sum</th>\n",
       "    </tr>\n",
       "  </thead>\n",
       "  <tbody>\n",
       "    <tr>\n",
       "      <th>0</th>\n",
       "      <td>2.0</td>\n",
       "      <td>670303864</td>\n",
       "    </tr>\n",
       "    <tr>\n",
       "      <th>1</th>\n",
       "      <td>3.0</td>\n",
       "      <td>32402777</td>\n",
       "    </tr>\n",
       "    <tr>\n",
       "      <th>2</th>\n",
       "      <td>4.0</td>\n",
       "      <td>262295485</td>\n",
       "    </tr>\n",
       "    <tr>\n",
       "      <th>3</th>\n",
       "      <td>5.0</td>\n",
       "      <td>236844899</td>\n",
       "    </tr>\n",
       "    <tr>\n",
       "      <th>4</th>\n",
       "      <td>6.0</td>\n",
       "      <td>189417477</td>\n",
       "    </tr>\n",
       "    <tr>\n",
       "      <th>5</th>\n",
       "      <td>7.0</td>\n",
       "      <td>4309812</td>\n",
       "    </tr>\n",
       "    <tr>\n",
       "      <th>6</th>\n",
       "      <td>8.0</td>\n",
       "      <td>658392656</td>\n",
       "    </tr>\n",
       "    <tr>\n",
       "      <th>7</th>\n",
       "      <td>9.0</td>\n",
       "      <td>41428000</td>\n",
       "    </tr>\n",
       "    <tr>\n",
       "      <th>8</th>\n",
       "      <td>10.0</td>\n",
       "      <td>47619084</td>\n",
       "    </tr>\n",
       "    <tr>\n",
       "      <th>9</th>\n",
       "      <td>11.0</td>\n",
       "      <td>126366165</td>\n",
       "    </tr>\n",
       "    <tr>\n",
       "      <th>10</th>\n",
       "      <td>12.0</td>\n",
       "      <td>38560412</td>\n",
       "    </tr>\n",
       "    <tr>\n",
       "      <th>11</th>\n",
       "      <td>13.0</td>\n",
       "      <td>101975384</td>\n",
       "    </tr>\n",
       "    <tr>\n",
       "      <th>12</th>\n",
       "      <td>14.0</td>\n",
       "      <td>391556939</td>\n",
       "    </tr>\n",
       "    <tr>\n",
       "      <th>13</th>\n",
       "      <td>15.0</td>\n",
       "      <td>392067176</td>\n",
       "    </tr>\n",
       "    <tr>\n",
       "      <th>14</th>\n",
       "      <td>16.0</td>\n",
       "      <td>445339722</td>\n",
       "    </tr>\n",
       "    <tr>\n",
       "      <th>15</th>\n",
       "      <td>17.0</td>\n",
       "      <td>125495400</td>\n",
       "    </tr>\n",
       "    <tr>\n",
       "      <th>16</th>\n",
       "      <td>18.0</td>\n",
       "      <td>25906260</td>\n",
       "    </tr>\n",
       "  </tbody>\n",
       "</table>\n",
       "</div>"
      ],
      "text/plain": [
       "   Product_Category_2   Purchase\n",
       "                             sum\n",
       "0                 2.0  670303864\n",
       "1                 3.0   32402777\n",
       "2                 4.0  262295485\n",
       "3                 5.0  236844899\n",
       "4                 6.0  189417477\n",
       "5                 7.0    4309812\n",
       "6                 8.0  658392656\n",
       "7                 9.0   41428000\n",
       "8                10.0   47619084\n",
       "9                11.0  126366165\n",
       "10               12.0   38560412\n",
       "11               13.0  101975384\n",
       "12               14.0  391556939\n",
       "13               15.0  392067176\n",
       "14               16.0  445339722\n",
       "15               17.0  125495400\n",
       "16               18.0   25906260"
      ]
     },
     "execution_count": 29,
     "metadata": {},
     "output_type": "execute_result"
    }
   ],
   "source": [
    "pivot_cat2.loc[:, [('Product_Category_2', ''), ('Purchase', 'sum')]]"
   ]
  },
  {
   "cell_type": "code",
   "execution_count": 30,
   "id": "3ba49e89",
   "metadata": {},
   "outputs": [],
   "source": [
    "# def create_kdeplot(data, x, hue, ax=None):\n",
    "#     plt.figure(figsize=(15,8))\n",
    "#     sns.kdeplot(data.sort_values(by=hue), x=x, hue=hue, common_norm=True, fill=True, ax=ax).set_title(f'KDE of {x} by {hue}');"
   ]
  },
  {
   "cell_type": "markdown",
   "id": "2e95631d",
   "metadata": {},
   "source": [
    "## Feature importance and thoughts on predicting Purhcase"
   ]
  },
  {
   "cell_type": "markdown",
   "id": "6c3a5af8",
   "metadata": {},
   "source": [
    "During EDA, means of purchase across Marital_Status and Stay_In_Current_City_Years features seemed even. This can be checked by performing an ANOVA test"
   ]
  },
  {
   "cell_type": "code",
   "execution_count": 31,
   "id": "33f49763",
   "metadata": {},
   "outputs": [],
   "source": [
    "import scipy.stats as st\n",
    "import statsmodels.formula.api as smf\n",
    "import statsmodels.api as sm"
   ]
  },
  {
   "cell_type": "code",
   "execution_count": 32,
   "id": "185d3eb6",
   "metadata": {},
   "outputs": [
    {
     "data": {
      "text/html": [
       "<div>\n",
       "<style scoped>\n",
       "    .dataframe tbody tr th:only-of-type {\n",
       "        vertical-align: middle;\n",
       "    }\n",
       "\n",
       "    .dataframe tbody tr th {\n",
       "        vertical-align: top;\n",
       "    }\n",
       "\n",
       "    .dataframe thead th {\n",
       "        text-align: right;\n",
       "    }\n",
       "</style>\n",
       "<table border=\"1\" class=\"dataframe\">\n",
       "  <thead>\n",
       "    <tr style=\"text-align: right;\">\n",
       "      <th></th>\n",
       "      <th>User_ID</th>\n",
       "      <th>Product_ID</th>\n",
       "      <th>Gender</th>\n",
       "      <th>Age</th>\n",
       "      <th>Occupation</th>\n",
       "      <th>City_Category</th>\n",
       "      <th>Stay_In_Current_City_Years</th>\n",
       "      <th>Marital_Status</th>\n",
       "      <th>Product_Category_1</th>\n",
       "      <th>Product_Category_2</th>\n",
       "      <th>Product_Category_3</th>\n",
       "      <th>Purchase</th>\n",
       "    </tr>\n",
       "  </thead>\n",
       "  <tbody>\n",
       "    <tr>\n",
       "      <th>0</th>\n",
       "      <td>1000001</td>\n",
       "      <td>P00069042</td>\n",
       "      <td>F</td>\n",
       "      <td>0-17</td>\n",
       "      <td>10</td>\n",
       "      <td>A</td>\n",
       "      <td>2</td>\n",
       "      <td>0</td>\n",
       "      <td>3</td>\n",
       "      <td>NaN</td>\n",
       "      <td>NaN</td>\n",
       "      <td>8370</td>\n",
       "    </tr>\n",
       "    <tr>\n",
       "      <th>1</th>\n",
       "      <td>1000001</td>\n",
       "      <td>P00248942</td>\n",
       "      <td>F</td>\n",
       "      <td>0-17</td>\n",
       "      <td>10</td>\n",
       "      <td>A</td>\n",
       "      <td>2</td>\n",
       "      <td>0</td>\n",
       "      <td>1</td>\n",
       "      <td>6.0</td>\n",
       "      <td>14.0</td>\n",
       "      <td>15200</td>\n",
       "    </tr>\n",
       "    <tr>\n",
       "      <th>2</th>\n",
       "      <td>1000001</td>\n",
       "      <td>P00087842</td>\n",
       "      <td>F</td>\n",
       "      <td>0-17</td>\n",
       "      <td>10</td>\n",
       "      <td>A</td>\n",
       "      <td>2</td>\n",
       "      <td>0</td>\n",
       "      <td>12</td>\n",
       "      <td>NaN</td>\n",
       "      <td>NaN</td>\n",
       "      <td>1422</td>\n",
       "    </tr>\n",
       "    <tr>\n",
       "      <th>3</th>\n",
       "      <td>1000001</td>\n",
       "      <td>P00085442</td>\n",
       "      <td>F</td>\n",
       "      <td>0-17</td>\n",
       "      <td>10</td>\n",
       "      <td>A</td>\n",
       "      <td>2</td>\n",
       "      <td>0</td>\n",
       "      <td>12</td>\n",
       "      <td>14.0</td>\n",
       "      <td>NaN</td>\n",
       "      <td>1057</td>\n",
       "    </tr>\n",
       "    <tr>\n",
       "      <th>4</th>\n",
       "      <td>1000002</td>\n",
       "      <td>P00285442</td>\n",
       "      <td>M</td>\n",
       "      <td>55+</td>\n",
       "      <td>16</td>\n",
       "      <td>C</td>\n",
       "      <td>4+</td>\n",
       "      <td>0</td>\n",
       "      <td>8</td>\n",
       "      <td>NaN</td>\n",
       "      <td>NaN</td>\n",
       "      <td>7969</td>\n",
       "    </tr>\n",
       "  </tbody>\n",
       "</table>\n",
       "</div>"
      ],
      "text/plain": [
       "   User_ID Product_ID Gender   Age Occupation City_Category  \\\n",
       "0  1000001  P00069042      F  0-17         10             A   \n",
       "1  1000001  P00248942      F  0-17         10             A   \n",
       "2  1000001  P00087842      F  0-17         10             A   \n",
       "3  1000001  P00085442      F  0-17         10             A   \n",
       "4  1000002  P00285442      M   55+         16             C   \n",
       "\n",
       "  Stay_In_Current_City_Years Marital_Status Product_Category_1  \\\n",
       "0                          2              0                  3   \n",
       "1                          2              0                  1   \n",
       "2                          2              0                 12   \n",
       "3                          2              0                 12   \n",
       "4                         4+              0                  8   \n",
       "\n",
       "  Product_Category_2 Product_Category_3  Purchase  \n",
       "0                NaN                NaN      8370  \n",
       "1                6.0               14.0     15200  \n",
       "2                NaN                NaN      1422  \n",
       "3               14.0                NaN      1057  \n",
       "4                NaN                NaN      7969  "
      ]
     },
     "execution_count": 32,
     "metadata": {},
     "output_type": "execute_result"
    }
   ],
   "source": [
    "df.head()"
   ]
  },
  {
   "cell_type": "code",
   "execution_count": 33,
   "id": "1ca35bad",
   "metadata": {},
   "outputs": [
    {
     "data": {
      "text/plain": [
       "['Gender',\n",
       " 'Age',\n",
       " 'Occupation',\n",
       " 'City_Category',\n",
       " 'Stay_In_Current_City_Years',\n",
       " 'Marital_Status',\n",
       " 'Product_Category_1',\n",
       " 'Product_Category_2',\n",
       " 'Product_Category_3']"
      ]
     },
     "execution_count": 33,
     "metadata": {},
     "output_type": "execute_result"
    }
   ],
   "source": [
    "categories"
   ]
  },
  {
   "cell_type": "code",
   "execution_count": 34,
   "id": "f3b9220e",
   "metadata": {},
   "outputs": [],
   "source": [
    "response = 'Purchase'"
   ]
  },
  {
   "cell_type": "code",
   "execution_count": 35,
   "id": "8b20b0c8",
   "metadata": {},
   "outputs": [],
   "source": [
    "def perform_anova(data, attr, response):\n",
    "    model = smf.ols(attr + '.cat.codes ~ ' + response, data=data).fit()\n",
    "    aov_table = sm.stats.anova_lm(model, type=2)\n",
    "    #print(aov_table)\n",
    "    return {attr: aov_table.loc[response, 'PR(>F)']}"
   ]
  },
  {
   "cell_type": "code",
   "execution_count": 36,
   "id": "15e5db2b",
   "metadata": {},
   "outputs": [],
   "source": [
    "aov_pval_dict = {}"
   ]
  },
  {
   "cell_type": "markdown",
   "id": "374ad698",
   "metadata": {},
   "source": [
    "***Performing ANOVA across all features***"
   ]
  },
  {
   "cell_type": "code",
   "execution_count": 37,
   "id": "7c54cbdd",
   "metadata": {
    "scrolled": false
   },
   "outputs": [],
   "source": [
    "for categ in categories:\n",
    "    aov_pval_dict.update(perform_anova(df, categ, response)) "
   ]
  },
  {
   "cell_type": "code",
   "execution_count": 38,
   "id": "ae195bdb",
   "metadata": {},
   "outputs": [
    {
     "data": {
      "text/plain": [
       "{'Gender': 0.0,\n",
       " 'Age': 7.261069230431432e-32,\n",
       " 'Occupation': 7.259684172672924e-54,\n",
       " 'City_Category': 0.0,\n",
       " 'Stay_In_Current_City_Years': 5.781617779710069e-05,\n",
       " 'Marital_Status': 0.7310947526475329,\n",
       " 'Product_Category_1': 0.0,\n",
       " 'Product_Category_2': 1.983714361798852e-162,\n",
       " 'Product_Category_3': 0.0}"
      ]
     },
     "execution_count": 38,
     "metadata": {},
     "output_type": "execute_result"
    }
   ],
   "source": [
    "aov_pval_dict"
   ]
  },
  {
   "cell_type": "code",
   "execution_count": 39,
   "id": "d9af0dab",
   "metadata": {},
   "outputs": [],
   "source": [
    "def aov_interpret_print(pval_dict, level):\n",
    "    pad = len(max(pval_dict, key=len))\n",
    "    print('{0:<{pad}} P-value Null'.format('Feature', pad=pad))\n",
    "    for atr, pval in pval_dict.items():\n",
    "        null = 'Accepted' if pval >= level else 'Rejected'            \n",
    "        print(f'{atr:{pad}} {pval:.5f} {null}')"
   ]
  },
  {
   "cell_type": "code",
   "execution_count": 40,
   "id": "ddd2b732",
   "metadata": {},
   "outputs": [
    {
     "name": "stdout",
     "output_type": "stream",
     "text": [
      "One way ANOVA test\n",
      "Null hypothesis: groups within features are statistically similar\n",
      "Significance level: 0.05\n",
      "\n",
      "Feature                    P-value Null\n",
      "Gender                     0.00000 Rejected\n",
      "Age                        0.00000 Rejected\n",
      "Occupation                 0.00000 Rejected\n",
      "City_Category              0.00000 Rejected\n",
      "Stay_In_Current_City_Years 0.00006 Rejected\n",
      "Marital_Status             0.73109 Accepted\n",
      "Product_Category_1         0.00000 Rejected\n",
      "Product_Category_2         0.00000 Rejected\n",
      "Product_Category_3         0.00000 Rejected\n"
     ]
    }
   ],
   "source": [
    "level = 0.05\n",
    "print(f'''One way ANOVA test\n",
    "Null hypothesis: groups within features are statistically similar\n",
    "Significance level: {level}\n",
    "''')\n",
    "aov_interpret_print(aov_pval_dict, level)"
   ]
  },
  {
   "cell_type": "markdown",
   "id": "ef49bd09",
   "metadata": {},
   "source": [
    "> Mean of purchase across Marital_Status is prooved to be statiscically similar, meaning this feature should be excluded before modeling\n",
    "\n",
    "> Mean of purchase across Stay_In_Current_City_Years differs significantly"
   ]
  },
  {
   "cell_type": "markdown",
   "id": "4c076271",
   "metadata": {},
   "source": [
    "### Handling missing values"
   ]
  },
  {
   "cell_type": "markdown",
   "id": "c27f755c",
   "metadata": {},
   "source": [
    "Given the nature of Product_Category_N feature, missing value means that the product belongs to only one or two categories respectfully, meaning there is no sense in filling those missing values, as well as dropping rows with missing categories or using only Product_Category_1.\n",
    "\n"
   ]
  },
  {
   "cell_type": "markdown",
   "id": "65aaa660",
   "metadata": {},
   "source": [
    "**Suggestion**: create new column *Combined_Category*"
   ]
  },
  {
   "cell_type": "code",
   "execution_count": 41,
   "id": "19de6116",
   "metadata": {},
   "outputs": [
    {
     "data": {
      "text/html": [
       "<div>\n",
       "<style scoped>\n",
       "    .dataframe tbody tr th:only-of-type {\n",
       "        vertical-align: middle;\n",
       "    }\n",
       "\n",
       "    .dataframe tbody tr th {\n",
       "        vertical-align: top;\n",
       "    }\n",
       "\n",
       "    .dataframe thead th {\n",
       "        text-align: right;\n",
       "    }\n",
       "</style>\n",
       "<table border=\"1\" class=\"dataframe\">\n",
       "  <thead>\n",
       "    <tr style=\"text-align: right;\">\n",
       "      <th></th>\n",
       "      <th>User_ID</th>\n",
       "      <th>Product_ID</th>\n",
       "      <th>Gender</th>\n",
       "      <th>Age</th>\n",
       "      <th>Occupation</th>\n",
       "      <th>City_Category</th>\n",
       "      <th>Stay_In_Current_City_Years</th>\n",
       "      <th>Marital_Status</th>\n",
       "      <th>Product_Category_1</th>\n",
       "      <th>Product_Category_2</th>\n",
       "      <th>Product_Category_3</th>\n",
       "      <th>Purchase</th>\n",
       "      <th>Combined_Category</th>\n",
       "    </tr>\n",
       "  </thead>\n",
       "  <tbody>\n",
       "    <tr>\n",
       "      <th>0</th>\n",
       "      <td>1000001</td>\n",
       "      <td>P00069042</td>\n",
       "      <td>F</td>\n",
       "      <td>0-17</td>\n",
       "      <td>10</td>\n",
       "      <td>A</td>\n",
       "      <td>2</td>\n",
       "      <td>0</td>\n",
       "      <td>3</td>\n",
       "      <td>NaN</td>\n",
       "      <td>NaN</td>\n",
       "      <td>8370</td>\n",
       "      <td>3</td>\n",
       "    </tr>\n",
       "    <tr>\n",
       "      <th>1</th>\n",
       "      <td>1000001</td>\n",
       "      <td>P00248942</td>\n",
       "      <td>F</td>\n",
       "      <td>0-17</td>\n",
       "      <td>10</td>\n",
       "      <td>A</td>\n",
       "      <td>2</td>\n",
       "      <td>0</td>\n",
       "      <td>1</td>\n",
       "      <td>6.0</td>\n",
       "      <td>14.0</td>\n",
       "      <td>15200</td>\n",
       "      <td>1_6_14</td>\n",
       "    </tr>\n",
       "    <tr>\n",
       "      <th>2</th>\n",
       "      <td>1000001</td>\n",
       "      <td>P00087842</td>\n",
       "      <td>F</td>\n",
       "      <td>0-17</td>\n",
       "      <td>10</td>\n",
       "      <td>A</td>\n",
       "      <td>2</td>\n",
       "      <td>0</td>\n",
       "      <td>12</td>\n",
       "      <td>NaN</td>\n",
       "      <td>NaN</td>\n",
       "      <td>1422</td>\n",
       "      <td>12</td>\n",
       "    </tr>\n",
       "    <tr>\n",
       "      <th>3</th>\n",
       "      <td>1000001</td>\n",
       "      <td>P00085442</td>\n",
       "      <td>F</td>\n",
       "      <td>0-17</td>\n",
       "      <td>10</td>\n",
       "      <td>A</td>\n",
       "      <td>2</td>\n",
       "      <td>0</td>\n",
       "      <td>12</td>\n",
       "      <td>14.0</td>\n",
       "      <td>NaN</td>\n",
       "      <td>1057</td>\n",
       "      <td>12_14</td>\n",
       "    </tr>\n",
       "    <tr>\n",
       "      <th>4</th>\n",
       "      <td>1000002</td>\n",
       "      <td>P00285442</td>\n",
       "      <td>M</td>\n",
       "      <td>55+</td>\n",
       "      <td>16</td>\n",
       "      <td>C</td>\n",
       "      <td>4+</td>\n",
       "      <td>0</td>\n",
       "      <td>8</td>\n",
       "      <td>NaN</td>\n",
       "      <td>NaN</td>\n",
       "      <td>7969</td>\n",
       "      <td>8</td>\n",
       "    </tr>\n",
       "  </tbody>\n",
       "</table>\n",
       "</div>"
      ],
      "text/plain": [
       "   User_ID Product_ID Gender   Age Occupation City_Category  \\\n",
       "0  1000001  P00069042      F  0-17         10             A   \n",
       "1  1000001  P00248942      F  0-17         10             A   \n",
       "2  1000001  P00087842      F  0-17         10             A   \n",
       "3  1000001  P00085442      F  0-17         10             A   \n",
       "4  1000002  P00285442      M   55+         16             C   \n",
       "\n",
       "  Stay_In_Current_City_Years Marital_Status Product_Category_1  \\\n",
       "0                          2              0                  3   \n",
       "1                          2              0                  1   \n",
       "2                          2              0                 12   \n",
       "3                          2              0                 12   \n",
       "4                         4+              0                  8   \n",
       "\n",
       "  Product_Category_2 Product_Category_3  Purchase Combined_Category  \n",
       "0                NaN                NaN      8370                 3  \n",
       "1                6.0               14.0     15200            1_6_14  \n",
       "2                NaN                NaN      1422                12  \n",
       "3               14.0                NaN      1057             12_14  \n",
       "4                NaN                NaN      7969                 8  "
      ]
     },
     "execution_count": 41,
     "metadata": {},
     "output_type": "execute_result"
    }
   ],
   "source": [
    "df['Combined_Category'] = df.Product_Category_1.astype('str') +'_' +\\\n",
    "                          df.Product_Category_2.astype('Int64').astype('str').replace('<NA>', '') + '_' +\\\n",
    "                          df.Product_Category_3.astype('Int64').astype('str').replace('<NA>', '')\n",
    "df['Combined_Category'] = df['Combined_Category'].apply(lambda x: x.rstrip('_'))\n",
    "df.loc[:, 'Combined_Category'] = df.loc[:, 'Combined_Category'].astype('category')\n",
    "df.head()"
   ]
  },
  {
   "cell_type": "code",
   "execution_count": 42,
   "id": "fe8f4025",
   "metadata": {},
   "outputs": [
    {
     "data": {
      "text/plain": [
       "['Gender',\n",
       " 'Age',\n",
       " 'Occupation',\n",
       " 'City_Category',\n",
       " 'Stay_In_Current_City_Years',\n",
       " 'Marital_Status']"
      ]
     },
     "execution_count": 42,
     "metadata": {},
     "output_type": "execute_result"
    }
   ],
   "source": [
    "customer_features"
   ]
  },
  {
   "cell_type": "code",
   "execution_count": 43,
   "id": "a29910a4",
   "metadata": {},
   "outputs": [
    {
     "data": {
      "text/plain": [
       "['Gender',\n",
       " 'Age',\n",
       " 'Occupation',\n",
       " 'City_Category',\n",
       " 'Stay_In_Current_City_Years',\n",
       " 'Marital_Status',\n",
       " 'Combined_Category']"
      ]
     },
     "execution_count": 43,
     "metadata": {},
     "output_type": "execute_result"
    }
   ],
   "source": [
    "categories = customer_features[:]\n",
    "categories.append('Combined_Category')\n",
    "categories"
   ]
  },
  {
   "cell_type": "markdown",
   "id": "cfbca74e",
   "metadata": {},
   "source": [
    "### Feature selection"
   ]
  },
  {
   "cell_type": "markdown",
   "id": "fd421629",
   "metadata": {},
   "source": [
    "**Assumption**: Product category uniquely defines its price, meaning that importance of Combined_Category feature will always be higher than any other feature."
   ]
  },
  {
   "cell_type": "markdown",
   "id": "892e644f",
   "metadata": {},
   "source": [
    "**Probation**: Using ```SelectKBest``` method from ```sklearn.feature_selection``` package to check features\\` scores against *Purchase* using ```mutual_info_regression``` scoring function."
   ]
  },
  {
   "cell_type": "code",
   "execution_count": 44,
   "id": "8294c80c",
   "metadata": {},
   "outputs": [],
   "source": [
    "from sklearn.model_selection import train_test_split\n",
    "from sklearn.feature_selection import SelectKBest, mutual_info_regression\n",
    "from sklearn.preprocessing import LabelEncoder as le\n",
    "from sklearn.preprocessing import OrdinalEncoder as oe"
   ]
  },
  {
   "cell_type": "code",
   "execution_count": 45,
   "id": "6f0361a3",
   "metadata": {},
   "outputs": [],
   "source": [
    "from itertools import compress"
   ]
  },
  {
   "cell_type": "code",
   "execution_count": 46,
   "id": "580841c2",
   "metadata": {},
   "outputs": [],
   "source": [
    "def feature_selection(X, y, score_f, k='all'):\n",
    "    colnames = X.columns\n",
    "    response = y.name\n",
    "    X = oe().fit_transform(X)\n",
    "    y = le().fit_transform(y)\n",
    "    \n",
    "    selector = SelectKBest(score_func=score_f, k=k)\n",
    "    selector.fit_transform(X, y)\n",
    "    \n",
    "    mask = selector.get_support()\n",
    "    supported_cols = list(compress(colnames, mask))\n",
    "    \n",
    "    pad = len(max(list(colnames), key=len))\n",
    "    print(f'''Feature selection\n",
    "Response: {response}\n",
    "Score function: {score_f.__name__}\n",
    "Total features: {len(colnames)}\n",
    "Supported features, k: {k}\n",
    "''')\n",
    "    print('{f:<{pad}} Score'.format(f='Feature', pad=pad))\n",
    "    for col, score in zip(supported_cols, selector.scores_):\n",
    "        print(f'{col:{pad}} {score}')\n",
    "      \n",
    "    plot_dict = {\n",
    "        'features': supported_cols,\n",
    "        'scores': selector.scores_\n",
    "    }\n",
    "    sns.barplot(data=pd.DataFrame.from_dict(plot_dict), x='features', y='scores', color='b', errorbar=None)\n",
    "    plt.xticks(rotation=75)"
   ]
  },
  {
   "cell_type": "code",
   "execution_count": 47,
   "id": "fca908d9",
   "metadata": {},
   "outputs": [
    {
     "name": "stdout",
     "output_type": "stream",
     "text": [
      "Feature selection\n",
      "Response: Purchase\n",
      "Score function: mutual_info_regression\n",
      "Total features: 7\n",
      "Supported features, k: all\n",
      "\n",
      "Feature                    Score\n",
      "Gender                     0.006084249907088335\n",
      "Age                        0.004366991083229799\n",
      "Occupation                 0.00671828093316762\n",
      "City_Category              0.005540261451171258\n",
      "Stay_In_Current_City_Years 0.0\n",
      "Marital_Status             0.00048739757453430954\n",
      "Combined_Category          1.6899712568224379\n"
     ]
    },
    {
     "data": {
      "image/png": "[encoded data removed]",
      "text/plain": [
       "<Figure size 432x288 with 1 Axes>"
      ]
     },
     "metadata": {},
     "output_type": "display_data"
    }
   ],
   "source": [
    "X = df[categories]\n",
    "y = df['Purchase']\n",
    "X_train, X_test, y_train, y_test = train_test_split(X, y, test_size=0.33, random_state=11)\n",
    "feature_selection(X_train, y_train, score_f=mutual_info_regression, k='all')"
   ]
  },
  {
   "cell_type": "markdown",
   "id": "5fda5acf",
   "metadata": {},
   "source": [
    "> As expected, mutual score of Combined_Category feature is absurdly higher\n",
    "\n",
    ">Score of Marital_Status feature sugesting its redundancy once more"
   ]
  },
  {
   "cell_type": "markdown",
   "id": "083c562a",
   "metadata": {},
   "source": [
    "**Suggestion**: when addressing as a *regression* problem,  exclude product category from the model, otherwise Purchase will be predicted based on product category only."
   ]
  },
  {
   "cell_type": "code",
   "execution_count": 48,
   "id": "5c612d13",
   "metadata": {},
   "outputs": [
    {
     "name": "stdout",
     "output_type": "stream",
     "text": [
      "Feature selection\n",
      "Response: Purchase\n",
      "Score function: mutual_info_regression\n",
      "Total features: 6\n",
      "Supported features, k: all\n",
      "\n",
      "Feature                    Score\n",
      "Gender                     0.007881487619883387\n",
      "Age                        0.005722054563066958\n",
      "Occupation                 0.007457305964615024\n",
      "City_Category              0.005244840027973652\n",
      "Stay_In_Current_City_Years 0.00017010676344764164\n",
      "Marital_Status             0.0\n"
     ]
    },
    {
     "data": {
      "image/png": "[encoded data removed]",
      "text/plain": [
       "<Figure size 432x288 with 1 Axes>"
      ]
     },
     "metadata": {},
     "output_type": "display_data"
    }
   ],
   "source": [
    "X = df[customer_features]\n",
    "y = df['Purchase']\n",
    "X_train, X_test, y_train, y_test = train_test_split(X, y, test_size=0.33, random_state=11)\n",
    "feature_selection(X_train, y_train, score_f=mutual_info_regression, k='all')"
   ]
  },
  {
   "cell_type": "markdown",
   "id": "3fad5ff6",
   "metadata": {},
   "source": [
    "> Marital_Status and Stay_In_Current_City_Years once again suggested to be redundant."
   ]
  },
  {
   "cell_type": "markdown",
   "id": "12c042a4",
   "metadata": {},
   "source": [
    "Is exluding Product_Category feature from model a correct decision?"
   ]
  },
  {
   "cell_type": "markdown",
   "id": "0931545a",
   "metadata": {},
   "source": [
    "**Suggestion**: adress this as a *classification* problem, predicting Product_Category a customer with given features is likely to purchase."
   ]
  },
  {
   "cell_type": "markdown",
   "id": "6e887a34",
   "metadata": {},
   "source": [
    "### Importance of features against Combined_Category"
   ]
  },
  {
   "cell_type": "code",
   "execution_count": 49,
   "id": "3827baf1",
   "metadata": {},
   "outputs": [
    {
     "name": "stdout",
     "output_type": "stream",
     "text": [
      "<class 'pandas.core.frame.DataFrame'>\n",
      "RangeIndex: 550068 entries, 0 to 550067\n",
      "Data columns (total 13 columns):\n",
      " #   Column                      Non-Null Count   Dtype   \n",
      "---  ------                      --------------   -----   \n",
      " 0   User_ID                     550068 non-null  int64   \n",
      " 1   Product_ID                  550068 non-null  object  \n",
      " 2   Gender                      550068 non-null  category\n",
      " 3   Age                         550068 non-null  category\n",
      " 4   Occupation                  550068 non-null  category\n",
      " 5   City_Category               550068 non-null  category\n",
      " 6   Stay_In_Current_City_Years  550068 non-null  category\n",
      " 7   Marital_Status              550068 non-null  category\n",
      " 8   Product_Category_1          550068 non-null  category\n",
      " 9   Product_Category_2          376430 non-null  category\n",
      " 10  Product_Category_3          166821 non-null  category\n",
      " 11  Purchase                    550068 non-null  int64   \n",
      " 12  Combined_Category           550068 non-null  category\n",
      "dtypes: category(10), int64(2), object(1)\n",
      "memory usage: 18.4+ MB\n"
     ]
    }
   ],
   "source": [
    "df.info()"
   ]
  },
  {
   "cell_type": "markdown",
   "id": "706970af",
   "metadata": {},
   "source": [
    "***Performing chi squared test of independence between customer features and Cimbined_Category***"
   ]
  },
  {
   "cell_type": "code",
   "execution_count": 50,
   "id": "ca34346e",
   "metadata": {},
   "outputs": [],
   "source": [
    "import researchpy as rp"
   ]
  },
  {
   "cell_type": "code",
   "execution_count": 51,
   "id": "46299189",
   "metadata": {},
   "outputs": [],
   "source": [
    "from functools import partial"
   ]
  },
  {
   "cell_type": "code",
   "execution_count": 52,
   "id": "0c948f8f",
   "metadata": {},
   "outputs": [],
   "source": [
    "def num_in_range(start, end, num):\n",
    "    return start < num <= end"
   ]
  },
  {
   "cell_type": "markdown",
   "id": "c245734c",
   "metadata": {},
   "source": [
    "Cramer\\`s V interpretation from [Akoglu H. User's guide to correlation coefficients](https://www.ncbi.nlm.nih.gov/pmc/articles/PMC6107969/), Table 2"
   ]
  },
  {
   "cell_type": "code",
   "execution_count": 53,
   "id": "c4e9b5e5",
   "metadata": {},
   "outputs": [],
   "source": [
    "cramers_v_interpretation = {\n",
    "    partial(num_in_range, 0.25, 1.0): 'Very strong',\n",
    "    partial(num_in_range, 0.15, 0.25): 'Strong',\n",
    "    partial(num_in_range, 0.10, 0.15): 'Moderate',\n",
    "    partial(num_in_range, 0.05, 0.10): 'Weak',\n",
    "    partial(num_in_range, 0.0, 0.05): 'No or very weak'\n",
    "}"
   ]
  },
  {
   "cell_type": "code",
   "execution_count": 54,
   "id": "2a724ffc",
   "metadata": {},
   "outputs": [],
   "source": [
    "response = 'Combined_Category'"
   ]
  },
  {
   "cell_type": "code",
   "execution_count": 55,
   "id": "b3c84da9",
   "metadata": {},
   "outputs": [],
   "source": [
    "def perform_chi2_independence_test(data, attr, response):\n",
    "    crosstab, test_results, expected = rp.crosstab(data[attr], data[response],\n",
    "                                               test= \"chi-square\",\n",
    "                                               expected_freqs= True,\n",
    "                                               prop= \"cell\")\n",
    "    p_val = test_results.iloc[1, 1]\n",
    "    cramers_v = test_results.iloc[2, 1]\n",
    "    \n",
    "    return {attr: [p_val, cramers_v]}\n",
    "    "
   ]
  },
  {
   "cell_type": "code",
   "execution_count": 56,
   "id": "9622f044",
   "metadata": {},
   "outputs": [],
   "source": [
    "chi2_test_dict = {}"
   ]
  },
  {
   "cell_type": "code",
   "execution_count": 57,
   "id": "3b4b1978",
   "metadata": {},
   "outputs": [],
   "source": [
    "for categ in customer_features:\n",
    "    chi2_test_dict.update(perform_chi2_independence_test(df, categ, response))"
   ]
  },
  {
   "cell_type": "code",
   "execution_count": 58,
   "id": "c52a0d89",
   "metadata": {},
   "outputs": [
    {
     "data": {
      "text/plain": [
       "{'Gender': [0.0, 0.1598],\n",
       " 'Age': [0.0, 0.0732],\n",
       " 'Occupation': [0.0, 0.0432],\n",
       " 'City_Category': [0.0, 0.0657],\n",
       " 'Stay_In_Current_City_Years': [0.0, 0.0241],\n",
       " 'Marital_Status': [0.0, 0.0516]}"
      ]
     },
     "execution_count": 58,
     "metadata": {},
     "output_type": "execute_result"
    }
   ],
   "source": [
    "chi2_test_dict"
   ]
  },
  {
   "cell_type": "code",
   "execution_count": 59,
   "id": "2073961f",
   "metadata": {},
   "outputs": [],
   "source": [
    "def chi2_interpret_print(chi2_dict, interpret_dict):\n",
    "    pad = len(max(chi2_dict, key=len))\n",
    "    print('{0:<{pad}} P-value {1:<11} Dependence'.format('Feature', \"Cramer`s V\", pad=pad))\n",
    "    for atr, vals in chi2_dict.items():\n",
    "        pval = vals[0]\n",
    "        cramers_v = vals[1]\n",
    "        for k, v in interpret_dict.items():\n",
    "            if k(cramers_v):\n",
    "                interpret = v\n",
    "        print(f'{atr:{pad}} {pval:.5f} {cramers_v:<11.5f} {interpret}')\n",
    "    "
   ]
  },
  {
   "cell_type": "code",
   "execution_count": 60,
   "id": "e1a432d3",
   "metadata": {},
   "outputs": [
    {
     "name": "stdout",
     "output_type": "stream",
     "text": [
      "Chi squared test of independence\n",
      "Null hypothesis: Feature and Combined_Category are independent\n",
      "\n",
      "Feature                    P-value Cramer`s V  Dependence\n",
      "Gender                     0.00000 0.15980     Strong\n",
      "Age                        0.00000 0.07320     Weak\n",
      "Occupation                 0.00000 0.04320     No or very weak\n",
      "City_Category              0.00000 0.06570     Weak\n",
      "Stay_In_Current_City_Years 0.00000 0.02410     No or very weak\n",
      "Marital_Status             0.00000 0.05160     Weak\n"
     ]
    }
   ],
   "source": [
    "print(f'''Chi squared test of independence\n",
    "Null hypothesis: Feature and Combined_Category are independent\n",
    "''')\n",
    "chi2_interpret_print(chi2_test_dict, cramers_v_interpretation)"
   ]
  },
  {
   "cell_type": "markdown",
   "id": "012eb681",
   "metadata": {},
   "source": [
    ">Chi squared test suggests there is strong dependence between Gender and Combined_Category\n",
    "\n",
    ">It also suggests there is weak correlation between every other feature and Combined_Category, which is questionable"
   ]
  },
  {
   "cell_type": "markdown",
   "id": "b547cbf2",
   "metadata": {},
   "source": [
    "Lets use ```SelectKBest``` method from ```sklearn.feature_selection``` package again using ```chi2``` and ```mutual_info_classif``` scoring function to take another look."
   ]
  },
  {
   "cell_type": "code",
   "execution_count": 61,
   "id": "6ed60645",
   "metadata": {},
   "outputs": [],
   "source": [
    "from sklearn.feature_selection import chi2, mutual_info_classif"
   ]
  },
  {
   "cell_type": "code",
   "execution_count": 62,
   "id": "6b640456",
   "metadata": {},
   "outputs": [
    {
     "name": "stdout",
     "output_type": "stream",
     "text": [
      "Feature selection\n",
      "Response: Combined_Category\n",
      "Score function: chi2\n",
      "Total features: 6\n",
      "Supported features, k: all\n",
      "\n",
      "Feature                    Score\n",
      "Gender                     2377.1546049010835\n",
      "Age                        6200.448646884688\n",
      "Occupation                 4085.8225159067133\n",
      "City_Category              1408.0102595639464\n",
      "Stay_In_Current_City_Years 248.5374493831939\n",
      "Marital_Status             635.8144616488239\n"
     ]
    },
    {
     "data": {
      "image/png": "[encoded data removed]",
      "text/plain": [
       "<Figure size 432x288 with 1 Axes>"
      ]
     },
     "metadata": {},
     "output_type": "display_data"
    }
   ],
   "source": [
    "X = df[customer_features]\n",
    "y = df['Combined_Category']\n",
    "X_train, X_test, y_train, y_test = train_test_split(X, y, test_size=0.33, random_state=11)\n",
    "feature_selection(X_train, y_train, score_f=chi2, k='all')"
   ]
  },
  {
   "cell_type": "code",
   "execution_count": null,
   "id": "4a1c3700",
   "metadata": {},
   "outputs": [],
   "source": [
    "X = df[customer_features]\n",
    "y = df['Combined_Category']\n",
    "X_train, X_test, y_train, y_test = train_test_split(X, y, test_size=0.33, random_state=11)\n",
    "feature_selection(X_train, y_train, score_f=mutual_info_classif, k='all')"
   ]
  },
  {
   "cell_type": "markdown",
   "id": "64ef67af",
   "metadata": {},
   "source": [
    "> Age, Gender and Occupation features suggested to be the most important across all tests owerall."
   ]
  },
  {
   "cell_type": "markdown",
   "id": "eac8732b",
   "metadata": {},
   "source": [
    "### Quick overview of Combined_Category"
   ]
  },
  {
   "cell_type": "code",
   "execution_count": null,
   "id": "8346b8d5",
   "metadata": {},
   "outputs": [],
   "source": [
    "df.head()"
   ]
  },
  {
   "cell_type": "code",
   "execution_count": null,
   "id": "12a2c97c",
   "metadata": {},
   "outputs": [],
   "source": [
    "combined_cat_pivot = create_pivot(df, 'Combined_Category', agg_dict, print_=False)\n",
    "combined_cat_pivot = combined_cat_pivot.droplevel(0, axis=1)\n",
    "combined_cat_pivot"
   ]
  },
  {
   "cell_type": "code",
   "execution_count": null,
   "id": "961e10de",
   "metadata": {},
   "outputs": [],
   "source": [
    "combined_cat_pivot.columns.values[0] = 'Combined_Category'\n",
    "combined_cat_pivot.sort_values(by='count')"
   ]
  },
  {
   "cell_type": "code",
   "execution_count": null,
   "id": "662bc46f",
   "metadata": {},
   "outputs": [],
   "source": [
    "plt.figure(figsize=(12,8))\n",
    "sns.boxplot(x=combined_cat_pivot['count'])"
   ]
  },
  {
   "cell_type": "code",
   "execution_count": null,
   "id": "24a8b392",
   "metadata": {},
   "outputs": [],
   "source": []
  },
  {
   "cell_type": "markdown",
   "id": "bd51347d",
   "metadata": {},
   "source": [
    "> There is huge difference in number of observations across Combined_Category"
   ]
  },
  {
   "cell_type": "markdown",
   "id": "b5931811",
   "metadata": {},
   "source": [
    "Unfortunately, without some tranformation (grouping etc.) based on product categories, classification can not be performed, as there is large amount of classes, some of which contains not enough members, and some contains a lot more than other."
   ]
  },
  {
   "cell_type": "markdown",
   "id": "d8cd1cc1",
   "metadata": {},
   "source": [
    "## Final thoughts and further analysis"
   ]
  },
  {
   "cell_type": "markdown",
   "id": "1b645810",
   "metadata": {},
   "source": [
    "### Some conclusions"
   ]
  },
  {
   "cell_type": "markdown",
   "id": "f4520ec7",
   "metadata": {},
   "source": [
    "> Different groups of customers are represented unequally\n",
    "\n",
    "> Mean value of purhcase across all customer features is roughly equivalent at the first glance\n",
    "\n",
    "> Encoding product categories is generally a bad idea, as it makes it impossible to group or divide categories to manipulate number of class members during classification\n",
    "\n",
    "> Marital_Status and Stay_In_Current_City_Years features have evidence for being redunant.\n",
    "\n"
   ]
  },
  {
   "cell_type": "markdown",
   "id": "13e5bd12",
   "metadata": {},
   "source": [
    "### Next steps"
   ]
  },
  {
   "cell_type": "markdown",
   "id": "ca13dcfb",
   "metadata": {},
   "source": [
    "- Resemple the data,\n",
    "    - Try to avoid any bias\n",
    "    - Leave Product category unencoded\n",
    "    - Consider not replacing customer Age with age group\n",
    "\n",
    "\n",
    "- Perform regression analysis\n",
    "    - Exclude (if needed) product category from the model\n",
    "    - Try to redict Purchase based on customer features only\n",
    "\n",
    "***And/or***\n",
    "\n",
    "- Perform classification analysis\n",
    "    - Decide how to group products based on categories for the best model score\n",
    "    - Try to classify product category (likely to be purchased)  based on customer features"
   ]
  },
  {
   "cell_type": "code",
   "execution_count": null,
   "id": "a2303693",
   "metadata": {},
   "outputs": [],
   "source": []
  }
 ],
 "metadata": {
  "kernelspec": {
   "display_name": "Python 3 (ipykernel)",
   "language": "python",
   "name": "python3"
  },
  "language_info": {
   "codemirror_mode": {
    "name": "ipython",
    "version": 3
   },
   "file_extension": ".py",
   "mimetype": "text/x-python",
   "name": "python",
   "nbconvert_exporter": "python",
   "pygments_lexer": "ipython3",
   "version": "3.10.4"
  }
 },
 "nbformat": 4,
 "nbformat_minor": 5
}
